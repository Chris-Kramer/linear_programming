{
 "cells": [
  {
   "attachments": {},
   "cell_type": "markdown",
   "metadata": {},
   "source": [
    "# Imports"
   ]
  },
  {
   "cell_type": "code",
   "execution_count": 1,
   "metadata": {},
   "outputs": [],
   "source": [
    "from utils import to_tableau, print_tbl\n",
    "from simplex_method import get_solution\n",
    "from cg_cutting import cg_cutting_planes"
   ]
  },
  {
   "attachments": {},
   "cell_type": "markdown",
   "metadata": {},
   "source": [
    "## CG cutting planes"
   ]
  },
  {
   "cell_type": "code",
   "execution_count": 2,
   "metadata": {},
   "outputs": [
    {
     "name": "stdout",
     "output_type": "stream",
     "text": [
      "\n",
      "[[ 1.  0.  0.  1.  0. -1.  2.]\n",
      " [ 0.  1.  0.  0.  0.  1.  1.]\n",
      " [-0. -0.  1.  1.  0. -3.  2.]\n",
      " [-0. -0. -0. -0.  1. -2.  1.]\n",
      " [ 0.  0.  0. -1.  0. -1. -4.]]\n",
      "\n"
     ]
    }
   ],
   "source": [
    "A = [\n",
    "    [1, -2, -1, 0],\n",
    "    [1, 1, 0, 1]\n",
    "]\n",
    "b = [-2, 3]\n",
    "c = [1, 2, 0, 0]\n",
    "\n",
    "tbl = to_tableau(c, A, b)\n",
    "decision_vars = [0, 1]\n",
    "res = cg_cutting_planes(tbl, decision_vars)\n",
    "print_tbl(res)"
   ]
  },
  {
   "cell_type": "code",
   "execution_count": 3,
   "metadata": {},
   "outputs": [
    {
     "name": "stdout",
     "output_type": "stream",
     "text": [
      "\n",
      "[[  0.     1.     0.33   0.     0.     0.    -0.33   3.  ]\n",
      " [  1.     0.    -1.     0.     0.     0.     2.    -0.  ]\n",
      " [ -0.    -0.     1.     1.     0.     0.    -2.     3.  ]\n",
      " [ -0.    -0.     0.67  -0.     1.     0.    -1.67   2.  ]\n",
      " [ -0.    -0.     0.33  -0.    -0.     1.    -1.33   1.  ]\n",
      " [  0.     0.    -0.33   0.     0.     0.    -0.67 -12.  ]]\n",
      "\n"
     ]
    }
   ],
   "source": [
    "A = [\n",
    "    [1, 6, 1, 0],\n",
    "    [1, 0, 0, 1]\n",
    "]\n",
    "b = [18, 3]\n",
    "c = [1, 4, 0, 0]\n",
    "\n",
    "tbl = to_tableau(c, A, b)\n",
    "decision_vars = [0, 1]\n",
    "solved_tbl = cg_cutting_planes(tbl, decision_vars)\n",
    "print_tbl(solved_tbl)\n"
   ]
  }
 ],
 "metadata": {
  "kernelspec": {
   "display_name": "Python 3.10.9 64-bit (microsoft store)",
   "language": "python",
   "name": "python3"
  },
  "language_info": {
   "codemirror_mode": {
    "name": "ipython",
    "version": 3
   },
   "file_extension": ".py",
   "mimetype": "text/x-python",
   "name": "python",
   "nbconvert_exporter": "python",
   "pygments_lexer": "ipython3",
   "version": "3.10.10"
  },
  "orig_nbformat": 4,
  "vscode": {
   "interpreter": {
    "hash": "aa82987a71ca0339a52998cd22613b0c002bda8349fa32a0cb67ceec3936a2bf"
   }
  }
 },
 "nbformat": 4,
 "nbformat_minor": 2
}
